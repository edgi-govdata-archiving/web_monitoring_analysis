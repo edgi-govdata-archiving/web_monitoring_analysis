{
 "cells": [
  {
   "cell_type": "markdown",
   "metadata": {},
   "source": [
    "# CTRL-F\n",
    "This notebook uses EDGI's `wayback` Python programming [script](https://www.github.com/edgi-govdata-archiving/wayback) to access snapshots of webpages from the Internet Archive's [Wayback Machine](https://www.archive.org) and count the mention of keywords or terms on these pages. It's like doing a ctrl-f search, but on archives of potentially several pages and for several terms!"
   ]
  },
  {
   "cell_type": "markdown",
   "metadata": {},
   "source": [
    "## First, we have to load some extra code to help us out\n",
    "Run the cell below by clicking the \"Play\" button."
   ]
  },
  {
   "cell_type": "code",
   "execution_count": null,
   "metadata": {},
   "outputs": [],
   "source": [
    "# Requirements\n",
    "import ipywidgets as widgets\n",
    "from datetime import datetime\n",
    "\n",
    "# EDGI's web monitoring scripts\n",
    "!pip install wayback &>/dev/null;\n",
    "from wayback import WaybackClient"
   ]
  },
  {
   "cell_type": "markdown",
   "metadata": {},
   "source": [
    "## Next, we need to know what term(s) you want to search for, on what page(s), and between what dates.\n",
    "We will find the most recent copy of each page (if available) during the timeframe you specify and count the use of the keyterms on it."
   ]
  },
  {
   "cell_type": "code",
   "execution_count": null,
   "metadata": {},
   "outputs": [],
   "source": [
    "# Parameters\n",
    "term_widget = widgets.Text(\n",
    "    value = 'Climate Change, Climate, Energy Independence',\n",
    "    placeholder='Climate Change, Climate, Energy Independence',\n",
    "    disabled=False\n",
    ")\n",
    "print(\"What terms do you want to search for? Separate these by commas, like so: Climate Change, Climate, Energy Independence\")\n",
    "display(term_widget)\n",
    "\n",
    "page_widget = widgets.Text(\n",
    "    value = 'epa.gov, epa.gov/climatechange',\n",
    "    placeholder='epa.gov, epa.gov/climatechange',\n",
    "    disabled=False\n",
    ")\n",
    "print(\"On what pages do you want to search for these terms? Separate these by commas and a space, like so: epa.gov, epa.gov/climatechange\")\n",
    "display(page_widget)\n",
    "\n",
    "print(\"We need a timeframe to search for these terms on these pages. We will start with the most recent date you pick ('Start Date') and work backwards until we find a Wayback Machine snapshot or hit the 'End Date'\")\n",
    "\n",
    "start_date_widget = widgets.DatePicker(\n",
    "    disabled=False\n",
    ")\n",
    "print(\"What is the most recent date in your search ('Start Date')? For instance: July 1 2016\")\n",
    "display(start_date_widget)\n",
    "\n",
    "\n",
    "end_date_widget = widgets.DatePicker(\n",
    "    disabled=False\n",
    ")\n",
    "print(\"What is the earliest date in your search ('End Date')? For instance: January 1 2016\")\n",
    "display(end_date_widget)\n"
   ]
  },
  {
   "cell_type": "markdown",
   "metadata": {},
   "source": [
    "## Almost there!\n",
    "We just need to process and confirm the input from the forms above."
   ]
  },
  {
   "cell_type": "code",
   "execution_count": null,
   "metadata": {},
   "outputs": [],
   "source": [
    "# Getting set up to count\n",
    "terms = term_widget.value.lower().split(\", \") # The terms we'll look at\n",
    "pages = page_widget.value.lower().split(\", \") # The pages we want to look at\n",
    "start_date = start_date_widget.value # The most recent day to search\n",
    "end_date = end_date_widget.value # The date to stop search\n",
    "\n",
    "print(\"Looking for \"+str(len(terms))+\" terms on \"+str(len(pages))+\" pages between \"+ str(end_date) + \" and \" + str(start_date) + \", starting backwards from \"+str(start_date)+\".\") "
   ]
  },
  {
   "cell_type": "markdown",
   "metadata": {},
   "source": [
    "## Go get snapshots of the page(s) and count the term(s)\n",
    "We'll go through each page, counting eaching term, and tell you the results as we go!"
   ]
  },
  {
   "cell_type": "code",
   "execution_count": null,
   "metadata": {},
   "outputs": [],
   "source": [
    "for page in pages:\n",
    "    try:\n",
    "        with WaybackClient() as client:\n",
    "            dump = client.search(page, from_date=end_date, to_date=start_date)\n",
    "            versions = list(dump)\n",
    "            for n, version in enumerate(reversed(versions)): # For each version in all the snapshots, starting from the most recent\n",
    "                if version.status_code == 200 or version.status_code == '-': # If the IA snapshot was viable...\n",
    "                    url=version.raw_url\n",
    "                    response = client.get_memento(url)\n",
    "                    content = response.content.decode()\n",
    "                    for p, t in enumerate(terms):\n",
    "                        page_sum = content.lower().count(t) # Count each term on this page\n",
    "                        print(\"Counted \" + t + \" \" + str(page_sum) + \" times on \" + url)\n",
    "                    break\n",
    "            else: \n",
    "                # If we've gone through all the snapshots and there's not one we can get...\n",
    "                print(\"There's no snapshot we can decode for\", page)\n",
    "    except:\n",
    "        print(\"There's either no snapshot we can decode for, or something else has happened on our end...\", page)"
   ]
  },
  {
   "cell_type": "code",
   "execution_count": null,
   "metadata": {},
   "outputs": [],
   "source": []
  }
 ],
 "metadata": {
  "kernelspec": {
   "display_name": "Python 3",
   "language": "python",
   "name": "python3"
  },
  "language_info": {
   "codemirror_mode": {
    "name": "ipython",
    "version": 3
   },
   "file_extension": ".py",
   "mimetype": "text/x-python",
   "name": "python",
   "nbconvert_exporter": "python",
   "pygments_lexer": "ipython3",
   "version": "3.7.2"
  }
 },
 "nbformat": 4,
 "nbformat_minor": 2
}
