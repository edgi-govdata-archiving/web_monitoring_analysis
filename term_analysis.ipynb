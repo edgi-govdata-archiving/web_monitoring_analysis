{
 "cells": [
  {
   "cell_type": "markdown",
   "metadata": {},
   "source": [
    "# Term Analysis\n",
    "This Jupyter Notebook, written in the R programming langauge, visualizes the changes to keywords on websites. As input, it takes a set of matrices produced by our page-scraping script [here](https://github.com/edgi-govdata-archiving/web_monitoring_research/blob/master/ctrl-f.py), where each column represents a term of interest (e.g. \"climate change\"), each row represents a page (e.g. \"epa.gov/climatechange\") and the cell value is the count of the term on that page. The script analyzes these results and generates figures."
   ]
  },
  {
   "cell_type": "markdown",
   "metadata": {},
   "source": [
    "## Load some extra code to help us\n",
    "Run the code below by clicking \"Play\". It will load in some \"libraries\" of supplemental code to help us conduct our analysis and create figures."
   ]
  },
  {
   "cell_type": "code",
   "execution_count": null,
   "metadata": {},
   "outputs": [],
   "source": [
    "library(readr)\n",
    "library(dplyr)\n",
    "library(ggplot2)"
   ]
  },
  {
   "cell_type": "markdown",
   "metadata": {},
   "source": [
    "## Load the data\n",
    "Here, we'll load in the counts we made of key terms as they were mentioned on US federal environmental agency websites during the Obama era and during the Trump era."
   ]
  },
  {
   "cell_type": "code",
   "execution_count": null,
   "metadata": {},
   "outputs": [],
   "source": [
    "# Load in the first timeframe's data - in this case, Obama era counts #\"data/counts_2016_June2020-redo.csv\", col_names=TRUE) \n",
    "first <- read_csv(\"https://raw.githubusercontent.com/edgi-govdata-archiving/web_monitoring_research/master/data/obama_count.csv\", col_names = TRUE) \n",
    "# Load in the second timeframe's data - in this case, Trump era counts\n",
    "second <- read_csv(\"https://raw.githubusercontent.com/edgi-govdata-archiving/web_monitoring_research/master/data/trump_count.csv\", col_names = TRUE) \n",
    "\n",
    "# Convert missing values (999) due to WM error to NAs\n",
    "first[first==999] <- NA\n",
    "second[second==999] <- NA\n",
    "\n",
    "# Load in a CSV that has the list of terms - this is for formatting outputs\n",
    "terms<-read_csv(\"https://raw.githubusercontent.com/edgi-govdata-archiving/web_monitoring_research/master/data/terms.csv\", col_names = FALSE) \n",
    "terms<-tolower(terms)\n",
    "\n",
    "# Load in a CSV that has a list of the URLs, organizations, etc. #\"data/counted_urls_redo.csv\", col_names=TRUE)\n",
    "urls <- read_csv(\"https://raw.githubusercontent.com/edgi-govdata-archiving/web_monitoring_research/master/data/counted_urls.csv\") \n",
    "# Slashes removed means trailing slashes - those at the end of some urls - have been removed\n",
    "\n",
    "# This does matrix math to calculate, for each page and term, the change (positive, negative, or zero) in usage\n",
    "combined<-second-first "
   ]
  },
  {
   "cell_type": "markdown",
   "metadata": {},
   "source": [
    "## Process these counts\n",
    "This step is required. We attempted to count terms on nearly 40,000 pages that we had previously identified, but not all of these pages are actually meaningful to exam. So, we exclude some of them in this step. "
   ]
  },
  {
   "cell_type": "code",
   "execution_count": null,
   "metadata": {},
   "outputs": [],
   "source": [
    "# Handle duplicated URLs - find their \"index\"....\n",
    "duplicates<-which(duplicated(urls$`url - o`) | duplicated(urls$`url - o`, fromLast = TRUE)) #url duplicates\n",
    "duplicates.short<-which(duplicated(urls$`shortened url - o`) | duplicated(urls$`shortened url - o`, fromLast = TRUE))#shortened url duplicates\n",
    "duplicates<-c(duplicates, duplicates.short)\n",
    "duplicates<-unique(duplicates)\n",
    "\n",
    "#....and then filter away\n",
    "first<-first[-c(duplicates),]\n",
    "second<-second[-c(duplicates),]\n",
    "combined<-combined[-c(duplicates),]\n",
    "urls<-urls[-c(duplicates),]\n",
    "\n",
    "# Handle pages we don't want or can't process (e.g. Jan 2017 snapshots, blogs, Spanish-language pages)\n",
    "pages.snapshots<-grep('snapshot', urls$`url - o`)\n",
    "pages.edu<-grep('edu/', urls$`url - o`)\n",
    "pages.news<-grep('news', urls$`url - o`)\n",
    "pages.blog<-grep('blog', urls$`url - o`)\n",
    "pages.News<-grep('News', urls$`url - o`)\n",
    "pages.espanol<-grep('espanol', urls$`url - o`)\n",
    "\n",
    "# Relevant to depth analysis\n",
    "pages.length<-sapply(gregexpr(\"/\", urls$`url - o`), length) # gets the number of slashes in each url (a proxy for importance/relevance)\n",
    "pages.length<-which(pages.length > 6) # remove pages greater than 6 slashes. Arbitrary default.\n",
    "# URLs > 4 3-4 http://www.epa.gov/theme/ http://www.epa.gov/theme http://www.epa.gov/ \n",
    "# URLs NOT 5 or NOT 6 5-6  http://www.epa.gov/theme/subtheme/page http://www.epa.gov/theme/subtheme/page/ http://www.epa.gov/theme/subtheme\n",
    "# URLs 7 < 7 http://www.epa.gov/theme/subtheme/page/subpage http://www.epa.gov/theme/subtheme/page/subpage/subsubpage\n",
    "# default is > 6\n",
    "# for page depth analysis > 4 gets \"2 or less\". Gets rid of urls with 5 or more slashes. \n",
    "# for page depth analysis < = 4 gets \"3 or more\". Gets rid of urls with 4 or fewer.\n",
    "\n",
    "dump<-c(pages.snapshots,pages.edu, pages.news,pages.blog, pages.News, pages.espanol, pages.length)\n",
    "dump<-unique(dump)\n",
    "\n",
    "first<-first[-c(dump),]\n",
    "second<-second[-c(dump),]\n",
    "combined<-combined[-c(dump),]\n",
    "urls<-urls[-c(dump),]\n",
    "\n",
    "# Make comparisons only on snapshots available in both timeframes\n",
    "snaps<-which(!is.na(urls$`captured url - 0`) & !is.na(urls$`final captured url - t`))\n",
    "first<-first[c(snaps),]\n",
    "second<-second[c(snaps),]\n",
    "combined<-combined[c(snaps),]\n",
    "urls<-urls[c(snaps),]\n",
    "\n",
    "# Make comparisons only on available counts (disregard NAs/999s)\n",
    "nas<-which(is.na(first[,1])|is.na(second[,1]))\n",
    "first<-first[-c(nas),]\n",
    "second<-second[-c(nas),]\n",
    "combined<-combined[-c(nas),]\n",
    "urls<-urls[-c(nas),]"
   ]
  },
  {
   "cell_type": "markdown",
   "metadata": {},
   "source": [
    "## Debug\n",
    "We want to verify that we have loaded the data correctly. Run the following cell, and if it outputs \"0\", we are good to go!"
   ]
  },
  {
   "cell_type": "code",
   "execution_count": null,
   "metadata": {},
   "outputs": [],
   "source": [
    "errors=0\n",
    "for (i in 1:nrow(urls)) {\n",
    "  if (tolower(urls$`shortened url - o`[i]) != tolower(urls$`shortened url - t`[i])){\n",
    "    errors<-errors+1\n",
    "    print(i)\n",
    "  }\n",
    "}\n",
    "errors"
   ]
  },
  {
   "cell_type": "markdown",
   "metadata": {},
   "source": [
    "## Take a look at the data\n",
    "Here is a sample of what the data we have look like. This is the change between 2016 and 2018 for each page and each term in our analysis."
   ]
  },
  {
   "cell_type": "code",
   "execution_count": null,
   "metadata": {},
   "outputs": [],
   "source": [
    "# combined.url is only the urls that aren't NA after combined/first. In other words, we exclude 0/0 (0 obama, 0 change) \n",
    "# How many pages was the term on in at least one of the timeframes...??\n",
    "pc<-which(is.na(combined/first)) #Exclude 0->0 change\n",
    "combined.full<-cbind(urls[c(1,3,6,8)], combined) \n",
    "combined.full<-combined.full[-c(pc),]\n",
    "combined.full"
   ]
  },
  {
   "cell_type": "markdown",
   "metadata": {},
   "source": [
    "## Figure 4\n",
    "The following code creates Figure 4.  Changes to the use of “climate change” across the 1,272 federal agency websites in our sample that mentioned the term in 2016 and/or 2018. The x axis shows the counts of \"climate change\" on a page in 2016, the y axis shows the difference in that count between 2016 and 2018 on a given page. Each bar represents a unique set of 2016->2018 page count shifts, e.g. 10 to 6 uses. The transparency of each bar reflects the number of pages that experienced that shift: the darker the bar, the more pages that started with that particular count of \"climate change\" in 2016 and added or removed that many instances of the term. "
   ]
  },
  {
   "cell_type": "code",
   "execution_count": null,
   "metadata": {},
   "outputs": [],
   "source": [
    "# This could be done in a loop to compare multiple terms, but for our purposes, we'll look at \"climate change\"\n",
    "i=9 # \"Climate Change\"\n",
    "\n",
    "df<-data.frame(first[,i], second[,i]) # Filter to only the Climate Change column, putting both Obama and Trump data in the same frame\n",
    "colnames(df)<-c(\"obama\", \"trump\") \n",
    "change<-which(df$obama != 0 | df$trump != 0) # REMOVE ZEROS - we don't want to plot pages that didn't change\n",
    "df<-df[c(change),]\n",
    "\n",
    "df$change <- df$trump-df$obama # Calculate a new column, the change between 2016 and 2018\n",
    "# Count of unique count pairings by URLs. (1,2 | 1,4 | 3,1 | etc.) How many of each change 1->2, 1->4, 3->1 are there?\n",
    "df.unique<-df %>% group_by(obama, change)%>%mutate(chg = sum(change), count=n()) \n",
    "df.unique<-unique(df.unique)\n",
    "\n",
    "pal <- c(\"red\", \"blue\") # pallette for increases and decreases\n",
    "\n",
    "# Create the plot\n",
    "p <- ggplot(df.unique, aes(obama, change, alpha=count, fill=change>0)) +\n",
    "    geom_bar(stat='identity', position='dodge') +\n",
    "    scale_fill_manual(values=pal) +\n",
    "    labs(title = 'Changes to the use of “climate change”', x='Count of \"climate change\" in 2016', y='Difference in 2018')+\n",
    "    theme(text=element_text(size=10), panel.grid.major = element_blank(), panel.grid.minor = element_blank(),\n",
    "            plot.background=element_rect(fill='white'), panel.background = element_rect(fill='white'), \n",
    "            legend.position=\"none\", axis.line.x = element_line(colour = \"black\", size=0)) +\n",
    "    scale_y_continuous(limits=c(-40,20), breaks=seq(-100, 80, 5)) +\n",
    "    scale_x_continuous(limits=c(0,35), breaks=seq(0, 150, 5)) + \n",
    "    geom_hline(yintercept=0, linetype=\"dashed\", color = \"black\")\n",
    "p"
   ]
  },
  {
   "cell_type": "markdown",
   "metadata": {},
   "source": [
    "## Figure 5\n",
    "Figure 5 shows pages that saw changes to both “resilience” (y-axis) and “climate change” (x-axis). Arrows indicate the directionality of change between 2016 and 2018. The top left quadrant shows pages on which “climate change” decreased and “resilience” increased; the lower left quadrant shows pages on which “climate change” decreased and “resilience” decreased. In each chart, both the x and y axes run from 0 to 22.\n",
    "\n",
    "The first cell below prepares the data for plotting; the second actually creates the small multiples."
   ]
  },
  {
   "cell_type": "code",
   "execution_count": null,
   "metadata": {},
   "outputs": [],
   "source": [
    "# Again, this could be done in a loop to compare multiple terms, but for our purposes, we'll look at just \"climate change\"\n",
    "# and resilience\n",
    "i=9 #\"Climate Change\"\n",
    "j=43 #\"Resilience\"\n",
    "\n",
    "col<-first[c(i,j)] # From the first timeframe, the term count\n",
    "tcol<-second[c(i,j)] # From the second timframe, the term count\n",
    "\n",
    "urlsDump<-urls # A temporary variable for our URLs\n",
    "orgsDump<-data.frame(urls$org) # A temporary variable for our URLs (by agency)\n",
    "\n",
    "# Shed zeros - We won't count pages if both terms weren't used on same page\n",
    "zeros<-which(col[,1]==0 & col[,2]==0)\n",
    "col<-col[-c(zeros),]\n",
    "tcol<-tcol[-c(zeros),] # Here we are saying that we will eliminate second timeframe urls if in the first time the urls did not have both terms used\n",
    "urlsDump<-urlsDump[-c(zeros),1]\n",
    "orgsDump<-orgsDump[-c(zeros),1]\n",
    "\n",
    "combo<-cbind(urlsDump, col, tcol, orgsDump)\n",
    "colnames(combo)<-c(\"url\", \"o_CC\", \"o_R\", \"t_CC\", \"t_R\", \"orgs\") \n",
    "\n",
    "# Now subset data to prepare for small multiples\n",
    "# NOTE: BOTH TERMS HAVE TO CHANGE....i.e. no flat lines.\n",
    "NE <- which(combo[,2]-combo[,4]<0 & combo[,3]-combo[,5] <0)\n",
    "SE <- which(combo[,2]-combo[,4]<0 & combo[,3]-combo[,5] >0)\n",
    "SW <- which(combo[,2]-combo[,4]>0 & combo[,3]-combo[,5] >0)\n",
    "NW <- which(combo[,2]-combo[,4]>0 & combo[,3]-combo[,5] <0)\n",
    "#E<-which(combo[,2]-combo[,4]<0 & combo[,3]-combo[,5] == 0) \n",
    "#N<-which(combo[,2]-combo[,4]==0 & combo[,3]-combo[,5] < 0) \n",
    "#S<-which(combo[,2]-combo[,4]==0 & combo[,3]-combo[,5] > 0) \n",
    "\n",
    "directions<-list(NE,SE,SW,NW)"
   ]
  },
  {
   "cell_type": "code",
   "execution_count": null,
   "metadata": {},
   "outputs": [],
   "source": [
    "# Create small multiples\n",
    "for (d in directions){\n",
    "    \n",
    "    combo<-cbind(urlsDump, col, tcol, orgsDump)\n",
    "    colnames(combo)<-c(\"url\", \"o_CC\", \"o_R\", \"t_CC\", \"t_R\", \"orgs\") \n",
    "\n",
    "    combo<-combo[c(d),] # Focus on the current direction\n",
    "    \n",
    "    combo<-combo[,c(2:5)] # Get rid of unnecessary columns (URL, agency, etc.)\n",
    "    c<-combo %>% group_by(o_CC, o_R, t_CC, t_R) %>%mutate(count = n())\n",
    "    c<-unique(c)\n",
    "    \n",
    "    # Draw arrows\n",
    "    p<-ggplot(c,aes(x = o_CC,y = o_R))+\n",
    "    geom_point(aes(x = o_CC,y = o_R), size=0, color=\"white\") + \n",
    "    geom_point(aes(x = t_CC,y = t_R), size=0, color=\"white\") +\n",
    "    scale_y_continuous(limits=c(0,22), expand = c(0,0)) +\n",
    "    scale_x_continuous(limits=c(0,22),expand = c(0,0)) + \n",
    "    labs(x=\"Count of climate change\", y=\"Count of resilience\")+\n",
    "    theme(aspect.ratio=1)+ \n",
    "    theme(text=element_text(size=9), panel.grid.major = element_blank(), panel.grid.minor = element_blank(),\n",
    "            panel.background = element_blank(), legend.position=\"none\", \n",
    "            axis.line = element_line(colour = \"grey68\", size=.1)) +\n",
    "    geom_segment(aes(x = o_CC,y = o_R,xend = t_CC,yend = t_R, size=3), color=\"black\", arrow=arrow(angle = 30, length = unit(0.12, \"inches\"), ends = \"last\", type = \"open\")) + \n",
    "    geom_abline(intercept=0, slope=1, colour=\"grey68\", linetype=2, size=.2) + scale_size(range = c(.1, 1.2),guide=FALSE)  \n",
    "    \n",
    "    print(p)\n",
    "}"
   ]
  },
  {
   "cell_type": "markdown",
   "metadata": {},
   "source": [
    "## Figure 6\n",
    "This figure shows the average per page use of the term “climate change” for each agency in our sample, in 2016 and 2018. The trend line represents no change (x = y). The x and y axes are square root scaled."
   ]
  },
  {
   "cell_type": "code",
   "execution_count": null,
   "metadata": {},
   "outputs": [],
   "source": [
    "# This could be configured as a loop to go through each term but for our purposes here, we'll only look at \"climate change\"\n",
    "\n",
    "i=9 # \"Climate Change\"\n",
    "\n",
    "# Summarize all URLs by org (agency)\n",
    "by.org<-urls%>% group_by(org) %>%summarise(num_of_pages=n()) \n",
    "\n",
    "# Report by agency and count\n",
    "pc<-which(is.na(combined[i]/first[i])) \n",
    "combined.url<-cbind(urls[c(1,3,6,8)], first[i], second[i], combined[i]) \n",
    "combined.url<-combined.url[-c(pc),]\n",
    "colnames(combined.url)<-c(\"url\", \"obama wm\", \"trump wm\", \"org\", \"before\", \"after\",\"diff\")\n",
    "#combined.url is only the urls that aren't NA after combined/first. In other words, we exclude 0/0 (0 obama, 0 change) #how many pages was the term on in at least one of the timeframes...\n",
    "\n",
    "# Change by term\n",
    "stats<-combined.url%>% group_by(org) %>%summarise(ObamaSum=sum(before), TrumpSum=sum(after), overall_pct_chg = 100*(sum(diff)/sum(before)), OCount=sum(before >0 ), TCount=sum(after>0), num_of_pages=n())\n",
    "stats<-merge(stats, by.org, by = \"org\")\n",
    "stats$pct<-(stats$num_of_pages.x/stats$num_of_pages.y)*100\n",
    "stats$pagepctchg<-((stats$TCount-stats$OCount)/stats$OCount)*100\n",
    "\n",
    "# Visualize term data by agency - changes in average use\n",
    "stats.viz<-stats\n",
    "stats.viz$Obamadensity<-stats.viz$ObamaSum/stats.viz$num_of_pages.y #rate of use across all agency pages\n",
    "#stats.viz$Obamaintensity<-stats.viz$ObamaSum/stats.viz$num_of_pages.x #rate of use across the pages it's used on\n",
    "stats.viz$Trumpdensity<-stats.viz$TrumpSum/stats.viz$num_of_pages.y #rate of use across all agency pages\n",
    "#stats.viz$Trumpintensity<-stats.viz$TrumpSum/stats.viz$num_of_pages.x #rate of use across the pages it's used on\n",
    "\n",
    "stats.viz$position[stats.viz$TrumpSum- stats.viz$ObamaSum == 0] = \"No Change\"\n",
    "stats.viz$position[stats.viz$TrumpSum- stats.viz$ObamaSum > 0] = \"Increase\"\n",
    "stats.viz$position[stats.viz$TrumpSum- stats.viz$ObamaSum < 0] = \"Decrease\"\n",
    "stats.viz$position[stats.viz$TrumpSum- stats.viz$ObamaSum == 0] = \"No Change\"\n",
    "\n",
    "# Plot the figure\n",
    "title<-(\"Climate Change - Average Per Page Use by Agency\")\n",
    "p <- ggplot(stats.viz, aes(x = Obamadensity,y = Trumpdensity, label = stats.viz$org))+\n",
    "    geom_abline(intercept=0, slope=1, colour=\"black\", size=.3, linetype=\"dashed\") +\n",
    "    geom_point(aes(x = Obamadensity,y = Trumpdensity,  color=stats.viz$position), size=4) + \n",
    "    geom_text(colour='dark grey', size = 4, box.padding = .75) + \n",
    "    scale_x_sqrt(breaks=c(0, .1,.25, .5, 1, 2, 5, 10)) +\n",
    "    scale_y_sqrt(breaks=c(0, .1,.25, .5, 1,2, 5, 10)) +\n",
    "    labs(x=\"2016\", y=\"2018\", title=title) +\n",
    "    scale_colour_manual(values = c(\"Red\", \"Blue\", \"Grey\"))\n",
    "\n",
    "p + theme(text=element_text(size=10), panel.grid.major = element_blank(), panel.grid.minor = element_blank(),\n",
    "         plot.background=element_rect(fill='white'), panel.background = element_rect(fill='white'), \n",
    "         legend.position=\"none\", axis.line = element_line(colour = \"black\", size=0))"
   ]
  },
  {
   "cell_type": "markdown",
   "metadata": {},
   "source": [
    "## Figure 7\n",
    "This figure shows the mean per page usage change on Cabinet vs non-cabinet agency websites, ordered left to right by our empirically driven expectations of decreases or increases in usage. Tan represents Non-Cabinet agencies; green represents Cabinet agencies. In general, Cabinet agencies removed terms more than non-Cabinet agencies. Terms like “climate change” and “climate” were especially targeted for removal, while terms like “energy independence” and “sustainability” were added. Due to our sampling method, there is very little data for the use of “unconventional oil” and “unconventional gas” and no data for non-Cabinet agencies for the term “unconventional gas”. "
   ]
  },
  {
   "cell_type": "code",
   "execution_count": null,
   "metadata": {},
   "outputs": [],
   "source": [
    "# Ideally the creation of cabinet_counts and cabinet_average would be done _in this script_\n",
    "\n",
    "f<-read_csv(\"https://raw.githubusercontent.com/edgi-govdata-archiving/web_monitoring_research/master/data/cabinet_average.csv\")\n",
    "f$Term<-factor(f$Term, levels=c(\"climate change\", \"climate\", \"greenhouse gases\", \"clean energy\", \n",
    "                                \"hydraulic fracturing\", \"adaptation\", \"air quality\", \"emissions\", \n",
    "                                \"resilience\", \"sustainability\", \"unconventional gas\", \"unconventional oil\", \n",
    "                                \"energy independence\"))\n",
    "\n",
    "p<-ggplot(data=f, aes(x=Term, y=Average, group=Cabinet)) +\n",
    "  geom_line(aes(color=Cabinet), size=2)+\n",
    "  geom_point(aes(color=Cabinet), size=5) + \n",
    "  geom_abline(intercept=0, slope=0, colour=\"black\", size=.1) +\n",
    "  theme(text=element_text(size=12), \n",
    "        axis.text.x = element_text(angle = 45, hjust = 1), \n",
    "        panel.grid.major = element_blank(), \n",
    "        panel.grid.minor = element_blank(),\n",
    "        panel.background = element_blank(), \n",
    "        legend.position=\"none\",\n",
    "        axis.line = element_line(colour = \"grey68\", size=1)) +\n",
    "  labs(title=\"Cabinet vs. Non-Cabinet Average Change Per Page\", y=\"Change\") +\n",
    "  scale_color_manual(values=c('#5ab4ac','#d8b365')) +\n",
    "  annotate(\"text\", label = \"Cabinet\", x = 1.5, y = -3, size = 5, colour = \"black\")  +\n",
    "  annotate(\"text\", label = \"Non-Cabinet\", x = 1.75, y = .5, size = 5, colour = \"black\")\n",
    "p"
   ]
  },
  {
   "cell_type": "markdown",
   "metadata": {},
   "source": [
    "## Figure 8\n",
    "The range of changes to climate-related terms in Cabinet and non-Cabinet agency websites, ordered left to right by our empirically-driven expectations of decreases or increases in usage. Tan circles represent Cabinet agency pages; green circles represent non-Cabinet agency pages. Circle size indicates the number of pages experiencing that degree of change. Cabinet agencies tended to have a larger range of term usage changes than non-Cabinet agencies, and tended to have more pages with more decreased usage for most climate-related terms. "
   ]
  },
  {
   "cell_type": "code",
   "execution_count": null,
   "metadata": {},
   "outputs": [],
   "source": [
    "# Ideally the creation of cabinet_counts and cabinet_average would be done _in this script_\n",
    "\n",
    "f <- read_csv(\"https://raw.githubusercontent.com/edgi-govdata-archiving/web_monitoring_research/master/data/cabinet_counts.csv\")\n",
    "f$term <- factor(f$term, levels=c(\"climate change\", \"climate\", \n",
    "                                        \"greenhouse gases\", \"clean energy\", \"hydraulic fracturing\", \n",
    "                                        \"adaptation\", \"air quality\", \"emissions\", \"resilience\", \"sustainability\", \n",
    "                                        \"unconventional gas\", \"unconventional oil\", \"energy independence\"))\n",
    "\n",
    "# How many of each change 1->2, 1->4, 3->1 are there?\n",
    "f <- f %>% group_by(term, change, cabinet)%>%mutate(count=n())\n",
    "\n",
    "p <- ggplot(f, aes(x=term, y=change)) +\n",
    "  geom_point(aes(shape=\"20\", color=cabinet, size=count), na.rm=TRUE, position=position_dodge(.5))+\n",
    "  scale_size(range = c(3, 10)) +\n",
    "  geom_abline(intercept=0, slope=0, colour=\"black\", size=.1) +\n",
    "  theme(text=element_text(size=14), axis.text.x = element_text(angle = 45, hjust = 1),\n",
    "          panel.grid.major = element_blank(), \n",
    "          panel.grid.minor = element_blank(),\n",
    "          panel.background = element_blank(), \n",
    "          legend.position=\"none\", \n",
    "          axis.line = element_line(colour = \"grey68\", size=.1)) +\n",
    "  labs(title=\"Cabinet vs. Non-Cabinet Per Page Changes\", y=\"Change\", x=\"Term\") +\n",
    "  scale_color_manual(values=c('#d8b365','#5ab4ac')) +\n",
    "  annotate(\"text\", angle = 45, hjust=1, label = \"Cabinet\", x = 1, y = 15, size = 3, colour = \"#d8b365\")  +\n",
    "  annotate(\"text\", angle = 45, hjust=1, label = \"Non-Cabinet\", x = 1.5, y = 30, size = 3, colour = '#5ab4ac')\n",
    "p"
   ]
  },
  {
   "cell_type": "markdown",
   "metadata": {},
   "source": [
    "## Figure 9\n",
    "This figure shows changes in the use of key terms by page visibility. More opaque bars represent more visible pages; more transparent bars represent less visible ones. Blue indicates additions; red represents removals."
   ]
  },
  {
   "cell_type": "code",
   "execution_count": null,
   "metadata": {},
   "outputs": [],
   "source": [
    "# Depth analysis results were previously obtained by modifiying pages.length variable in \"Process these counts\"\n",
    "depth <- read_csv(\"https://raw.githubusercontent.com/edgi-govdata-archiving/web_monitoring_research/master/data/depthR.csv\")\n",
    "\n",
    "colnames(depth)<-c(\"Term\", \"Visibility\", \"Percent\", \"Viz\")\n",
    "\n",
    "depth <- depth[order(-depth$Percent),]\n",
    "\n",
    "pal <- c(\"red\", \"blue\")\n",
    "\n",
    "ggplot(depth, aes(x=Visibility, y=Percent, alpha=Viz, fill = Percent>0)) + \n",
    "  geom_bar(position=\"dodge\", stat=\"identity\", width = .5) +\n",
    "  scale_fill_manual(values = pal) +\n",
    "  geom_hline(yintercept=0, size=.5, linetype=\"dashed\") +\n",
    "  ggtitle(\"#Differences in Use of Terms by Page Visibility\") + \n",
    "  facet_wrap(~Term, ncol=3) +\n",
    "  coord_flip() +\n",
    "  xlab(\"\") +  \n",
    "  scale_x_discrete(breaks=NULL, labels=NULL)+\n",
    "  theme(text=element_text(size=10),panel.background = element_rect(fill='white'), \n",
    "        legend.position=\"none\", axis.text.y=element_blank(), panel.grid.major.y = element_blank(), \n",
    "        panel.grid.minor.y=element_blank(), panel.grid.minor.x=element_blank(), panel.grid.major.x=element_blank()) "
   ]
  },
  {
   "cell_type": "markdown",
   "metadata": {},
   "source": [
    "## Figure 10\n",
    "This figure shows changes in the use of “climate change” by agency and page visibility. More opaque bars represent more visible pages; more transparent bars represent less visible ones. Blue indicates additions; red represents removals."
   ]
  },
  {
   "cell_type": "code",
   "execution_count": null,
   "metadata": {},
   "outputs": [],
   "source": [
    "# Depth analysis results were previously obtained by modifiying pages.length variable in \"Process these counts\"\n",
    "depth.agency <- read_csv(\"https://raw.githubusercontent.com/edgi-govdata-archiving/web_monitoring_research/master/data/depthAgencyR.csv\") \n",
    "\n",
    "colnames(depth.agency)<-c(\"Agency\", \"Visibility\", \"Percent\", \"Viz\") \n",
    "\n",
    "depth.agency <- depth.agency[order(-depth.agency$Percent),]\n",
    "\n",
    "pal <- c(\"red\", \"blue\")\n",
    "\n",
    "ggplot(depth.agency, aes(x=Visibility, y=Percent, alpha=Viz, fill = Percent>0)) + \n",
    "  geom_bar(position=\"dodge\", stat=\"identity\", width = .5) +\n",
    "  scale_fill_manual(values = pal) +\n",
    "  geom_hline(yintercept=0, size=.5, linetype=\"dashed\") +\n",
    "  ggtitle(\"Differences in Use of 'Climate Change' by Agency and Page Visibility\") + \n",
    "  facet_wrap(~Agency, ncol=3) + \n",
    "  coord_flip() +\n",
    "  xlab(\"\") +  \n",
    "  scale_x_discrete(breaks=NULL, labels=NULL)+\n",
    "  theme(text=element_text(size=10),panel.background = element_rect(fill='white'), \n",
    "        legend.position=\"none\", axis.text.y=element_blank(), panel.grid.major.y = element_blank(), \n",
    "        panel.grid.minor.y=element_blank(), panel.grid.minor.x=element_blank(), panel.grid.major.x=element_blank()) "
   ]
  },
  {
   "cell_type": "code",
   "execution_count": null,
   "metadata": {},
   "outputs": [],
   "source": []
  }
 ],
 "metadata": {
  "kernelspec": {
   "display_name": "R",
   "language": "R",
   "name": "ir"
  },
  "language_info": {
   "codemirror_mode": "r",
   "file_extension": ".r",
   "mimetype": "text/x-r-source",
   "name": "R",
   "pygments_lexer": "r",
   "version": "3.5.1"
  }
 },
 "nbformat": 4,
 "nbformat_minor": 2
}
